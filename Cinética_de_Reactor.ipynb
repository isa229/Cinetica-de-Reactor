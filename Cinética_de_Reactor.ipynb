{
  "nbformat": 4,
  "nbformat_minor": 0,
  "metadata": {
    "kernelspec": {
      "display_name": "Python 3",
      "language": "python",
      "name": "python3"
    },
    "language_info": {
      "codemirror_mode": {
        "name": "ipython",
        "version": 3
      },
      "file_extension": ".py",
      "mimetype": "text/x-python",
      "name": "python",
      "nbconvert_exporter": "python",
      "pygments_lexer": "ipython3",
      "version": "3.6.0"
    },
    "colab": {
      "name": "Cinética de Reactor.ipynb",
      "provenance": [],
      "collapsed_sections": []
    }
  },
  "cells": [
    {
      "cell_type": "markdown",
      "source": [
        "# Problema Cinética de Reactor Químico"
      ],
      "metadata": {
        "id": "VnSnWkTZU8r6"
      }
    },
    {
      "cell_type": "markdown",
      "metadata": {
        "id": "51DHum16QO4N"
      },
      "source": [
        "En un reactor químico se utilizan bacterias que fermentan glucosa para producir etanol. Las concentraciones de las sustancias están dadas por las siguientes ecuaciones:\n",
        "\n",
        "$$Bacterias: \\frac{dC_c}{dt}=\\mu_{max}\\left(1-\\frac{C_p}{C_p^*}\\right)^{0.52}\\frac{C_cC_s}{K_s+C_s}-k_dC_c$$\n",
        "$$Glucosa: \\frac{dC_s}{dt}=-Y_{s/c}\\mu_{max}\\left(1-\\frac{C_p}{C_p^*}\\right)^{0.52}\\frac{C_cC_s}{K_s+C_s}-mC_c$$\n",
        "$$Producto: \\frac{dC_p}{dt}=Y_{p/c}\\mu_{max}\\left(1-\\frac{C_p}{C_p^*}\\right)^{0.52}\\frac{C_cC_s}{K_s+C_s}$$\n",
        "\n",
        "Donde los valores de los parámetros son:\n",
        "\n",
        "$C_p^*=93$ $\\mathrm{g/dm^3}$,\n",
        "$\\mu_{max} = 0.33$ $\\mathrm{h^{-1}}$,\n",
        "$K_s = 1.7$ $\\mathrm{g/dm^3}$,\n",
        "$m = 0.03$ $\\mathrm{h^{-1}}$,\n",
        "$Y_{s/c} = 12.5$,\n",
        "$Y_{p/c} = 5.6$,\n",
        "$k_d = 0.01$ $\\mathrm{h^{-1}}$\n",
        "\n",
        "Además:\n",
        "\n",
        "$C_c(0) = 1.0$ $\\mathrm{g/dm^3}$,\n",
        "$C_s(0) = 250$ $\\mathrm{g/dm^3}$,\n",
        "$C_p(0) = 0$ $\\mathrm{g/dm^3}$"
      ]
    },
    {
      "cell_type": "markdown",
      "source": [
        "# Solución"
      ],
      "metadata": {
        "id": "1uTjywRTVx1A"
      }
    },
    {
      "cell_type": "markdown",
      "source": [
        "Se resolverá  el sistema de ecuaciones diferenciales utilizando SciPy. \n",
        "Se calculan las soluciones en los puntos de un arreglo de NumPy de 0 h a 12 h con un espaciado de 0.5 h entre cada valor.\n"
      ],
      "metadata": {
        "id": "mPRJBcjbU0CT"
      }
    },
    {
      "cell_type": "code",
      "metadata": {
        "colab": {
          "base_uri": "https://localhost:8080/"
        },
        "id": "f0OIzCBND6Qj",
        "outputId": "4af46939-1386-4ff6-adc4-a54797e929c5"
      },
      "source": [
        "from scipy import integrate\n",
        "import matplotlib.pyplot as plt\n",
        "import numpy as np\n",
        "\n",
        "#con =  concentraciones de distintas categorias\n",
        "\n",
        "\n",
        "def modelo (t, con, cpp, mumax, ks, m, ysc, ypc, kd):\n",
        "  B, G, P = con\n",
        "  \n",
        "  dBdt = mumax*((1-P/cpp)**0.52)*(B*G/(ks+G))-kd*B\n",
        "  dGdt = -ysc*mumax*((1-P/cpp)**0.52)*(B*G/(ks+G))-m*B\n",
        "  dPdt = ypc*mumax*((1-P/cpp)**0.52)*(B*G/(ks+G))\n",
        "  return dBdt, dGdt, dPdt\n",
        "\n",
        "con0 = [1,250,0]\n",
        "t = [0,12]\n",
        "teval = np.linspace(0,12,25)\n",
        "\n",
        "sol = integrate.solve_ivp(modelo, t, con0, t_eval=teval, args=(93,0.33,1.7,0.03,12.5,5.6,0.01))\n",
        "\n",
        "sol\n"
      ],
      "execution_count": 1,
      "outputs": [
        {
          "output_type": "stream",
          "name": "stderr",
          "text": [
            "/usr/local/lib/python3.7/dist-packages/ipykernel_launcher.py:11: RuntimeWarning: invalid value encountered in double_scalars\n",
            "  # This is added back by InteractiveShellApp.init_path()\n",
            "/usr/local/lib/python3.7/dist-packages/ipykernel_launcher.py:12: RuntimeWarning: invalid value encountered in double_scalars\n",
            "  if sys.path[0] == '':\n",
            "/usr/local/lib/python3.7/dist-packages/ipykernel_launcher.py:13: RuntimeWarning: invalid value encountered in double_scalars\n",
            "  del sys.path[0]\n"
          ]
        },
        {
          "output_type": "execute_result",
          "data": {
            "text/plain": [
              "  message: 'The solver successfully reached the end of the integration interval.'\n",
              "     nfev: 62\n",
              "     njev: 0\n",
              "      nlu: 0\n",
              "      sol: None\n",
              "   status: 0\n",
              "  success: True\n",
              "        t: array([ 0. ,  0.5,  1. ,  1.5,  2. ,  2.5,  3. ,  3.5,  4. ,  4.5,  5. ,\n",
              "        5.5,  6. ,  6.5,  7. ,  7.5,  8. ,  8.5,  9. ,  9.5, 10. , 10.5,\n",
              "       11. , 11.5, 12. ])\n",
              " t_events: None\n",
              "        y: array([[  1.        ,   1.17167845,   1.37145358,   1.60336169,\n",
              "          1.87201759,   2.18230246,   2.53928336,   2.94821324,\n",
              "          3.41344632,   3.94043938,   4.53557981,   5.20246702,\n",
              "          5.94187881,   6.7517713 ,   7.62727894,   8.56071454,\n",
              "          9.54075634,  10.55011411,  11.56651328,  12.56341314,\n",
              "         13.51166656,  14.37630893,  15.12616413,  15.73567294,\n",
              "         16.18489302],\n",
              "       [250.        , 247.77003593, 245.17449384, 242.16058568,\n",
              "        238.66796872, 234.63258936, 229.98768056, 224.66376184,\n",
              "        218.60246777, 211.73089345, 203.96365215, 195.25030262,\n",
              "        185.57577957, 174.96039367, 163.45983157, 151.16515585,\n",
              "        138.21345584, 124.81808596, 111.25604017,  97.85954409,\n",
              "         84.99564543,  73.10655153,  62.58940899,  53.77342572,\n",
              "         46.91987089],\n",
              "       [  0.        ,   0.99174172,   2.14601643,   3.48627075,\n",
              "          5.03930779,   6.83356006,   8.89864189,  11.26534943,\n",
              "         13.95948894,  17.01331473,  20.46459927,  24.33546783,\n",
              "         28.63220636,  33.3452615 ,  38.44924061,  43.9029117 ,\n",
              "         49.64447444,  55.57810553,  61.57958698,  67.50012219,\n",
              "         73.17550863,  78.40808396,  83.02057206,  86.86633041,\n",
              "         89.82935005]])\n",
              " y_events: None"
            ]
          },
          "metadata": {},
          "execution_count": 1
        }
      ]
    },
    {
      "cell_type": "code",
      "source": [
        "np.savetxt(\"Concentraciones.csv\", sol.y.T, delimiter = \",\")"
      ],
      "metadata": {
        "id": "TLJyF1fe5EW7"
      },
      "execution_count": 2,
      "outputs": []
    },
    {
      "cell_type": "code",
      "metadata": {
        "colab": {
          "base_uri": "https://localhost:8080/"
        },
        "id": "8TgJsd2GGpJe",
        "outputId": "60ef5253-2184-4d7e-a128-81bbb1c14615"
      },
      "source": [
        "concentraciones = np.loadtxt(open(\"Concentraciones.csv\", \"r\"), delimiter=\",\")\n",
        "print(concentraciones)"
      ],
      "execution_count": 3,
      "outputs": [
        {
          "output_type": "stream",
          "name": "stdout",
          "text": [
            "[[  1.         250.           0.        ]\n",
            " [  1.17167845 247.77003593   0.99174172]\n",
            " [  1.37145358 245.17449384   2.14601643]\n",
            " [  1.60336169 242.16058568   3.48627075]\n",
            " [  1.87201759 238.66796872   5.03930779]\n",
            " [  2.18230246 234.63258936   6.83356006]\n",
            " [  2.53928336 229.98768056   8.89864189]\n",
            " [  2.94821324 224.66376184  11.26534943]\n",
            " [  3.41344632 218.60246777  13.95948894]\n",
            " [  3.94043938 211.73089345  17.01331473]\n",
            " [  4.53557981 203.96365215  20.46459927]\n",
            " [  5.20246702 195.25030262  24.33546783]\n",
            " [  5.94187881 185.57577957  28.63220636]\n",
            " [  6.7517713  174.96039367  33.3452615 ]\n",
            " [  7.62727894 163.45983157  38.44924061]\n",
            " [  8.56071454 151.16515585  43.9029117 ]\n",
            " [  9.54075634 138.21345584  49.64447444]\n",
            " [ 10.55011411 124.81808596  55.57810553]\n",
            " [ 11.56651328 111.25604017  61.57958698]\n",
            " [ 12.56341314  97.85954409  67.50012219]\n",
            " [ 13.51166656  84.99564543  73.17550863]\n",
            " [ 14.37630893  73.10655153  78.40808396]\n",
            " [ 15.12616413  62.58940899  83.02057206]\n",
            " [ 15.73567294  53.77342572  86.86633041]\n",
            " [ 16.18489302  46.91987089  89.82935005]]\n"
          ]
        }
      ]
    },
    {
      "cell_type": "code",
      "metadata": {
        "colab": {
          "base_uri": "https://localhost:8080/"
        },
        "id": "-3i8B51bHXn5",
        "outputId": "eb57d21c-88b4-405f-a5eb-530e82049ebe"
      },
      "source": [
        "concentraciones[:,0]"
      ],
      "execution_count": 4,
      "outputs": [
        {
          "output_type": "execute_result",
          "data": {
            "text/plain": [
              "array([ 1.        ,  1.17167845,  1.37145358,  1.60336169,  1.87201759,\n",
              "        2.18230246,  2.53928336,  2.94821324,  3.41344632,  3.94043938,\n",
              "        4.53557981,  5.20246702,  5.94187881,  6.7517713 ,  7.62727894,\n",
              "        8.56071454,  9.54075634, 10.55011411, 11.56651328, 12.56341314,\n",
              "       13.51166656, 14.37630893, 15.12616413, 15.73567294, 16.18489302])"
            ]
          },
          "metadata": {},
          "execution_count": 4
        }
      ]
    },
    {
      "cell_type": "code",
      "metadata": {
        "colab": {
          "base_uri": "https://localhost:8080/",
          "height": 281
        },
        "id": "mPcEacedHdjI",
        "outputId": "56efe725-2be2-4d84-d2a4-f2bce8460f17"
      },
      "source": [
        "import matplotlib.pyplot as plt\n",
        "\n",
        "plt.plot(teval, concentraciones[:,0])\n",
        "plt.title(\"Concentrciones de bacterias\")\n",
        "plt.show()"
      ],
      "execution_count": 5,
      "outputs": [
        {
          "output_type": "display_data",
          "data": {
            "image/png": "[encoded data removed]",
            "text/plain": [
              "<Figure size 432x288 with 1 Axes>"
            ]
          },
          "metadata": {
            "needs_background": "light"
          }
        }
      ]
    },
    {
      "cell_type": "code",
      "metadata": {
        "colab": {
          "base_uri": "https://localhost:8080/",
          "height": 281
        },
        "id": "6VNfb8LZHpZ9",
        "outputId": "87b7b2d1-5024-45e6-9bb6-62861e21e2c5"
      },
      "source": [
        "plt.plot(teval, concentraciones[:,1])\n",
        "plt.title(\"Concentracion de glucosa\")\n",
        "plt.show()"
      ],
      "execution_count": 6,
      "outputs": [
        {
          "output_type": "display_data",
          "data": {
            "image/png": "[encoded data removed]",
            "text/plain": [
              "<Figure size 432x288 with 1 Axes>"
            ]
          },
          "metadata": {
            "needs_background": "light"
          }
        }
      ]
    },
    {
      "cell_type": "code",
      "metadata": {
        "colab": {
          "base_uri": "https://localhost:8080/",
          "height": 281
        },
        "id": "RPoNRfsqH2tC",
        "outputId": "9e5aecdd-ee8c-4e26-dc73-881d83407cfe"
      },
      "source": [
        "plt.plot(teval, concentraciones[:,2])\n",
        "plt.title(\"Concentracion de producto\")\n",
        "plt.show()"
      ],
      "execution_count": 7,
      "outputs": [
        {
          "output_type": "display_data",
          "data": {
            "image/png": "[encoded data removed]",
            "text/plain": [
              "<Figure size 432x288 with 1 Axes>"
            ]
          },
          "metadata": {
            "needs_background": "light"
          }
        }
      ]
    }
  ]
}